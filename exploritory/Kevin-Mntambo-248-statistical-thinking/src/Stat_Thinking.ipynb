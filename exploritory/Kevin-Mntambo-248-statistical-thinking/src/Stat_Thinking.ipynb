{
 "cells": [
  {
   "cell_type": "markdown",
   "metadata": {},
   "source": [
    "\n",
    "## Statistical Thinking\n",
    "\n",
    "Author: Kevin Mntambo \n",
    "\n",
    "Description: We take a look at the behavior of different countries over time to help improve environmental     sustainability in accordance to goal 7 of the 8 goals set by The Millennium Development for 2015 that were defined by the United Nations to help improve living conditions and the conditions of our planet. We will have a look at some of the key indicators for this, namely carbon dioxide emissions, protected land and sea areas, and forests."
   ]
  },
  {
   "cell_type": "code",
   "execution_count": 1,
   "metadata": {},
   "outputs": [],
   "source": [
    "import pandas as pd\n",
    "import seaborn as sns\n",
    "import numpy as np\n",
    "import scipy as sp\n",
    "import matplotlib.pyplot as plt\n",
    "from scipy.stats.stats import pearsonr\n",
    "from scipy.stats import spearmanr\n",
    "env_sastainability_df = pd.read_csv(\"../data/MDG_Export_20191227.csv\")\n",
    "\n"
   ]
  },
  {
   "cell_type": "code",
   "execution_count": 2,
   "metadata": {},
   "outputs": [
    {
     "data": {
      "text/html": [
       "<div>\n",
       "<style scoped>\n",
       "    .dataframe tbody tr th:only-of-type {\n",
       "        vertical-align: middle;\n",
       "    }\n",
       "\n",
       "    .dataframe tbody tr th {\n",
       "        vertical-align: top;\n",
       "    }\n",
       "\n",
       "    .dataframe thead th {\n",
       "        text-align: right;\n",
       "    }\n",
       "</style>\n",
       "<table border=\"1\" class=\"dataframe\">\n",
       "  <thead>\n",
       "    <tr style=\"text-align: right;\">\n",
       "      <th></th>\n",
       "      <th>CountryCode</th>\n",
       "      <th>Country</th>\n",
       "      <th>SeriesCode</th>\n",
       "      <th>MDG</th>\n",
       "      <th>Series</th>\n",
       "      <th>1990</th>\n",
       "      <th>Footnotes</th>\n",
       "      <th>Type</th>\n",
       "      <th>1991</th>\n",
       "      <th>Footnotes.1</th>\n",
       "      <th>...</th>\n",
       "      <th>Type.26</th>\n",
       "      <th>2017</th>\n",
       "      <th>Footnotes.27</th>\n",
       "      <th>Type.27</th>\n",
       "      <th>2018</th>\n",
       "      <th>Footnotes.28</th>\n",
       "      <th>Type.28</th>\n",
       "      <th>2019</th>\n",
       "      <th>Footnotes.29</th>\n",
       "      <th>Type.29</th>\n",
       "    </tr>\n",
       "  </thead>\n",
       "  <tbody>\n",
       "    <tr>\n",
       "      <th>0</th>\n",
       "      <td>4</td>\n",
       "      <td>Afghanistan</td>\n",
       "      <td>567</td>\n",
       "      <td>Y</td>\n",
       "      <td>Proportion of land area covered by forest, per...</td>\n",
       "      <td>2.1</td>\n",
       "      <td>NaN</td>\n",
       "      <td>E</td>\n",
       "      <td></td>\n",
       "      <td></td>\n",
       "      <td>...</td>\n",
       "      <td></td>\n",
       "      <td></td>\n",
       "      <td></td>\n",
       "      <td></td>\n",
       "      <td></td>\n",
       "      <td></td>\n",
       "      <td></td>\n",
       "      <td></td>\n",
       "      <td></td>\n",
       "      <td></td>\n",
       "    </tr>\n",
       "    <tr>\n",
       "      <th>1</th>\n",
       "      <td>4</td>\n",
       "      <td>Afghanistan</td>\n",
       "      <td>749</td>\n",
       "      <td>Y</td>\n",
       "      <td>Carbon dioxide emissions (CO2), thousand metri...</td>\n",
       "      <td>2676.9</td>\n",
       "      <td>NaN</td>\n",
       "      <td>G</td>\n",
       "      <td>2493.6</td>\n",
       "      <td>NaN</td>\n",
       "      <td>...</td>\n",
       "      <td></td>\n",
       "      <td></td>\n",
       "      <td></td>\n",
       "      <td></td>\n",
       "      <td></td>\n",
       "      <td></td>\n",
       "      <td></td>\n",
       "      <td></td>\n",
       "      <td></td>\n",
       "      <td></td>\n",
       "    </tr>\n",
       "    <tr>\n",
       "      <th>2</th>\n",
       "      <td>4</td>\n",
       "      <td>Afghanistan</td>\n",
       "      <td>616</td>\n",
       "      <td>Y</td>\n",
       "      <td>Terrestrial and marine areas protected to tota...</td>\n",
       "      <td>0.36</td>\n",
       "      <td>NaN</td>\n",
       "      <td>C</td>\n",
       "      <td></td>\n",
       "      <td></td>\n",
       "      <td>...</td>\n",
       "      <td></td>\n",
       "      <td></td>\n",
       "      <td></td>\n",
       "      <td></td>\n",
       "      <td></td>\n",
       "      <td></td>\n",
       "      <td></td>\n",
       "      <td></td>\n",
       "      <td></td>\n",
       "      <td></td>\n",
       "    </tr>\n",
       "    <tr>\n",
       "      <th>3</th>\n",
       "      <td>8</td>\n",
       "      <td>Albania</td>\n",
       "      <td>567</td>\n",
       "      <td>Y</td>\n",
       "      <td>Proportion of land area covered by forest, per...</td>\n",
       "      <td>28.8</td>\n",
       "      <td>NaN</td>\n",
       "      <td>C</td>\n",
       "      <td></td>\n",
       "      <td></td>\n",
       "      <td>...</td>\n",
       "      <td></td>\n",
       "      <td></td>\n",
       "      <td></td>\n",
       "      <td></td>\n",
       "      <td></td>\n",
       "      <td></td>\n",
       "      <td></td>\n",
       "      <td></td>\n",
       "      <td></td>\n",
       "      <td></td>\n",
       "    </tr>\n",
       "    <tr>\n",
       "      <th>4</th>\n",
       "      <td>8</td>\n",
       "      <td>Albania</td>\n",
       "      <td>749</td>\n",
       "      <td>Y</td>\n",
       "      <td>Carbon dioxide emissions (CO2), thousand metri...</td>\n",
       "      <td>7488</td>\n",
       "      <td>NaN</td>\n",
       "      <td>G</td>\n",
       "      <td>3971.4</td>\n",
       "      <td>NaN</td>\n",
       "      <td>...</td>\n",
       "      <td></td>\n",
       "      <td></td>\n",
       "      <td></td>\n",
       "      <td></td>\n",
       "      <td></td>\n",
       "      <td></td>\n",
       "      <td></td>\n",
       "      <td></td>\n",
       "      <td></td>\n",
       "      <td></td>\n",
       "    </tr>\n",
       "  </tbody>\n",
       "</table>\n",
       "<p>5 rows × 95 columns</p>\n",
       "</div>"
      ],
      "text/plain": [
       "   CountryCode      Country  SeriesCode MDG  \\\n",
       "0            4  Afghanistan         567   Y   \n",
       "1            4  Afghanistan         749   Y   \n",
       "2            4  Afghanistan         616   Y   \n",
       "3            8      Albania         567   Y   \n",
       "4            8      Albania         749   Y   \n",
       "\n",
       "                                              Series    1990 Footnotes Type  \\\n",
       "0  Proportion of land area covered by forest, per...     2.1       NaN    E   \n",
       "1  Carbon dioxide emissions (CO2), thousand metri...  2676.9       NaN    G   \n",
       "2  Terrestrial and marine areas protected to tota...    0.36       NaN    C   \n",
       "3  Proportion of land area covered by forest, per...    28.8       NaN    C   \n",
       "4  Carbon dioxide emissions (CO2), thousand metri...    7488       NaN    G   \n",
       "\n",
       "     1991 Footnotes.1  ... Type.26 2017 Footnotes.27 Type.27 2018  \\\n",
       "0                      ...                                          \n",
       "1  2493.6         NaN  ...                                          \n",
       "2                      ...                                          \n",
       "3                      ...                                          \n",
       "4  3971.4         NaN  ...                                          \n",
       "\n",
       "  Footnotes.28 Type.28 2019 Footnotes.29 Type.29  \n",
       "0                                                 \n",
       "1                                                 \n",
       "2                                                 \n",
       "3                                                 \n",
       "4                                                 \n",
       "\n",
       "[5 rows x 95 columns]"
      ]
     },
     "execution_count": 2,
     "metadata": {},
     "output_type": "execute_result"
    }
   ],
   "source": [
    "env_sastainability_df.head()"
   ]
  },
  {
   "cell_type": "markdown",
   "metadata": {},
   "source": [
    "We can already tell that this data is very dirty and potentially has many missing values."
   ]
  },
  {
   "cell_type": "code",
   "execution_count": 3,
   "metadata": {},
   "outputs": [
    {
     "name": "stdout",
     "output_type": "stream",
     "text": [
      "(690, 95)\n"
     ]
    }
   ],
   "source": [
    "print(env_sastainability_df.shape)"
   ]
  },
  {
   "cell_type": "markdown",
   "metadata": {},
   "source": [
    "We want to gain a basic overview of the shape of the dataset, on the left is the number of rows on the right is the number of columns"
   ]
  },
  {
   "cell_type": "code",
   "execution_count": 4,
   "metadata": {},
   "outputs": [
    {
     "data": {
      "text/plain": [
       "230"
      ]
     },
     "execution_count": 4,
     "metadata": {},
     "output_type": "execute_result"
    }
   ],
   "source": [
    "len(env_sastainability_df['Country'].unique())\n"
   ]
  },
  {
   "cell_type": "markdown",
   "metadata": {},
   "source": [
    "The number of countries are a third of the number of the total rows in the dataset, we can see from the snapshot of the data that each country contains three rows separated into diferent series (categories). This is also  surprising since there are about 195 countries recognized by the UN."
   ]
  },
  {
   "cell_type": "code",
   "execution_count": 5,
   "metadata": {
    "scrolled": true
   },
   "outputs": [
    {
     "data": {
      "text/plain": [
       "CountryCode       int64\n",
       "Country          object\n",
       "SeriesCode        int64\n",
       "MDG              object\n",
       "Series           object\n",
       "                 ...   \n",
       "Footnotes.28     object\n",
       "Type.28          object\n",
       "2019            float64\n",
       "Footnotes.29     object\n",
       "Type.29          object\n",
       "Length: 95, dtype: object"
      ]
     },
     "execution_count": 5,
     "metadata": {},
     "output_type": "execute_result"
    }
   ],
   "source": [
    "\n",
    "#turn all year columns into int64 types, while replacing missing values with Nans.\n",
    "year = np.arange(start=1990, stop=2020, step=1)\n",
    "for y in year:\n",
    "    env_sastainability_df[str(y)] = pd.to_numeric(env_sastainability_df[str(y)], errors='coerce')\n",
    "\n",
    "#relace all remaining missing values with null.\n",
    "env_sastainability_df.replace(\" \",'NAN',inplace=True)\n",
    "\n",
    "env_sastainability_df.dtypes"
   ]
  },
  {
   "cell_type": "markdown",
   "metadata": {},
   "source": [
    "We want to ensure that our data is manipulatable and that we can find all our missing values by turning them into null values.\n"
   ]
  },
  {
   "cell_type": "code",
   "execution_count": 6,
   "metadata": {},
   "outputs": [
    {
     "data": {
      "text/plain": [
       "Country\n",
       "Afghanistan                                       90\n",
       "Albania                                           90\n",
       "Algeria                                           90\n",
       "American Samoa                                    90\n",
       "Andorra                                           90\n",
       "                                                  ..\n",
       "Western Sahara                                    90\n",
       "Yemen                                             90\n",
       "Yugoslavia [former Socialist Federal Republic]    90\n",
       "Zambia                                            90\n",
       "Zimbabwe                                          90\n",
       "Length: 230, dtype: int64"
      ]
     },
     "execution_count": 6,
     "metadata": {},
     "output_type": "execute_result"
    }
   ],
   "source": [
    "#find all null values by country\n",
    "null_val_by_country = env_sastainability_df.set_index('Country').isna().sum(axis=1)\n",
    "null_val_by_country.groupby(['Country']).sum()"
   ]
  },
  {
   "cell_type": "markdown",
   "metadata": {},
   "source": [
    "There is an equal amount of missing values in each country which suggests that there are about thirty columns that are empty or very close to  empty columns in the data set."
   ]
  },
  {
   "cell_type": "code",
   "execution_count": 7,
   "metadata": {},
   "outputs": [
    {
     "data": {
      "text/plain": [
       "Series\n",
       "Carbon dioxide emissions (CO2), thousand metric tons of CO2 (CDIAC)             6900\n",
       "Proportion of land area covered by forest, percentage                           6884\n",
       "Terrestrial and marine areas protected to total territorial area, percentage    6900\n",
       "dtype: int64"
      ]
     },
     "execution_count": 7,
     "metadata": {},
     "output_type": "execute_result"
    }
   ],
   "source": [
    "#find all null values by series\n",
    "nul_val_by_series = env_sastainability_df.set_index('Series').isna().sum(axis=1)\n",
    "nul_val_by_series.groupby(['Series']).sum()\n"
   ]
  },
  {
   "cell_type": "markdown",
   "metadata": {},
   "source": [
    "There is a relatively equal amount of missing values in each series  category which further confirms that there are close to 30 columns that are completely empty."
   ]
  },
  {
   "cell_type": "code",
   "execution_count": 8,
   "metadata": {},
   "outputs": [
    {
     "name": "stdout",
     "output_type": "stream",
     "text": [
      "    year  total\n",
      "0   1990     63\n",
      "1   1991    508\n",
      "2   1992    486\n",
      "3   1993    486\n",
      "4   1994    485\n",
      "5   1995    483\n",
      "6   1996    484\n",
      "7   1997    481\n",
      "8   1998    481\n",
      "9   1999    481\n",
      "10  2000     34\n",
      "11  2001    479\n",
      "12  2002    478\n",
      "13  2003    478\n",
      "14  2004    478\n",
      "15  2005    254\n",
      "16  2006    476\n",
      "17  2007    475\n",
      "18  2008    475\n",
      "19  2009    475\n",
      "20  2010    252\n",
      "21  2011    475\n",
      "22  2012    690\n",
      "23  2013    690\n",
      "24  2014    467\n",
      "25  2015    690\n",
      "26  2016    690\n",
      "27  2017    690\n",
      "28  2018    690\n",
      "29  2019    690\n"
     ]
    }
   ],
   "source": [
    "#find all null values by year\n",
    "Null_val_container = []\n",
    "\n",
    "#print( env_sastainability_df['1990'].isna().sum())\n",
    "for y in year:\n",
    "    Null_val_container.append (env_sastainability_df[str(y)].isnull().sum())\n",
    "\n",
    "null_val_by_year = np.array( Null_val_container)\n",
    "null_val_by_year_df = pd.DataFrame({'year': year, 'total': list(null_val_by_year)}, columns=['year','total'])\n",
    "\n",
    "print(null_val_by_year_df)\n"
   ]
  },
  {
   "cell_type": "markdown",
   "metadata": {},
   "source": [
    "Most years  have  a lot of missing data , 2000 and 1990 being the most data rich years . We can also see that from 2012 to 2019 with the exception of 2014, these years(columns) had no data at all, they are empty."
   ]
  },
  {
   "cell_type": "code",
   "execution_count": 9,
   "metadata": {},
   "outputs": [
    {
     "data": {
      "text/plain": [
       "(690, 28)"
      ]
     },
     "execution_count": 9,
     "metadata": {},
     "output_type": "execute_result"
    }
   ],
   "source": [
    "env_sastainability_df.drop(env_sastainability_df.columns[env_sastainability_df.columns.str.startswith('Type')],axis=1,inplace=True)\n",
    "env_sastainability_df.drop(env_sastainability_df.columns[env_sastainability_df.columns.str.startswith('Footnotes')],axis=1,inplace=True)\n",
    "env_sastainability_df.dropna(axis=1,how='all',inplace=True)\n",
    "\n",
    "env_sastainability_df.shape"
   ]
  },
  {
   "cell_type": "markdown",
   "metadata": {},
   "source": [
    "From the information we've gathered we can now drop all mising values and empty columns."
   ]
  },
  {
   "cell_type": "code",
   "execution_count": 10,
   "metadata": {},
   "outputs": [
    {
     "data": {
      "text/html": [
       "<div>\n",
       "<style scoped>\n",
       "    .dataframe tbody tr th:only-of-type {\n",
       "        vertical-align: middle;\n",
       "    }\n",
       "\n",
       "    .dataframe tbody tr th {\n",
       "        vertical-align: top;\n",
       "    }\n",
       "\n",
       "    .dataframe thead th {\n",
       "        text-align: right;\n",
       "    }\n",
       "</style>\n",
       "<table border=\"1\" class=\"dataframe\">\n",
       "  <thead>\n",
       "    <tr style=\"text-align: right;\">\n",
       "      <th></th>\n",
       "      <th>Country</th>\n",
       "      <th>1990</th>\n",
       "      <th>2011</th>\n",
       "    </tr>\n",
       "  </thead>\n",
       "  <tbody>\n",
       "    <tr>\n",
       "      <th>652</th>\n",
       "      <td>United States</td>\n",
       "      <td>4823557.1</td>\n",
       "      <td>5305569.6</td>\n",
       "    </tr>\n",
       "    <tr>\n",
       "      <th>124</th>\n",
       "      <td>China</td>\n",
       "      <td>2460744.0</td>\n",
       "      <td>9019518.2</td>\n",
       "    </tr>\n",
       "    <tr>\n",
       "      <th>301</th>\n",
       "      <td>Japan</td>\n",
       "      <td>1094287.8</td>\n",
       "      <td>1187657.0</td>\n",
       "    </tr>\n",
       "    <tr>\n",
       "      <th>277</th>\n",
       "      <td>India</td>\n",
       "      <td>690576.8</td>\n",
       "      <td>2074344.9</td>\n",
       "    </tr>\n",
       "    <tr>\n",
       "      <th>646</th>\n",
       "      <td>United Kingdom</td>\n",
       "      <td>555902.5</td>\n",
       "      <td>448235.7</td>\n",
       "    </tr>\n",
       "  </tbody>\n",
       "</table>\n",
       "</div>"
      ],
      "text/plain": [
       "            Country       1990       2011\n",
       "652   United States  4823557.1  5305569.6\n",
       "124           China  2460744.0  9019518.2\n",
       "301           Japan  1094287.8  1187657.0\n",
       "277           India   690576.8  2074344.9\n",
       "646  United Kingdom   555902.5   448235.7"
      ]
     },
     "execution_count": 10,
     "metadata": {},
     "output_type": "execute_result"
    }
   ],
   "source": [
    "#find highest polluters of 1990\n",
    "#np.sort(mgd['1990'])\n",
    "\n",
    "carbon_emission_sereis_df = env_sastainability_df.loc[env_sastainability_df['Series'] == \"Carbon dioxide emissions (CO2), thousand metric tons of CO2 (CDIAC)\"]\n",
    "Top_emitting_countries = carbon_emission_sereis_df.sort_values(by='1990',ascending=False).head()\n",
    "Top_emitting_countries[['Country','1990','2011']]"
   ]
  },
  {
   "cell_type": "markdown",
   "metadata": {},
   "source": [
    "Here are the top 5 polluting countries in 1990 vs how they were doing in 2011. From the offset, we might expect the CO2 levels to rise exponentially over time, however this table shows that most top emitting countries have been increasing their CO2 footprint, relatively slowly over time, with China being the only exception."
   ]
  },
  {
   "cell_type": "code",
   "execution_count": 11,
   "metadata": {},
   "outputs": [
    {
     "data": {
      "text/html": [
       "<div>\n",
       "<style scoped>\n",
       "    .dataframe tbody tr th:only-of-type {\n",
       "        vertical-align: middle;\n",
       "    }\n",
       "\n",
       "    .dataframe tbody tr th {\n",
       "        vertical-align: top;\n",
       "    }\n",
       "\n",
       "    .dataframe thead th {\n",
       "        text-align: right;\n",
       "    }\n",
       "</style>\n",
       "<table border=\"1\" class=\"dataframe\">\n",
       "  <thead>\n",
       "    <tr style=\"text-align: right;\">\n",
       "      <th></th>\n",
       "      <th>Country</th>\n",
       "      <th>1990</th>\n",
       "      <th>2011</th>\n",
       "    </tr>\n",
       "  </thead>\n",
       "  <tbody>\n",
       "    <tr>\n",
       "      <th>445</th>\n",
       "      <td>Niue</td>\n",
       "      <td>3.7</td>\n",
       "      <td>11.0</td>\n",
       "    </tr>\n",
       "    <tr>\n",
       "      <th>505</th>\n",
       "      <td>Saint Helena</td>\n",
       "      <td>7.3</td>\n",
       "      <td>11.0</td>\n",
       "    </tr>\n",
       "    <tr>\n",
       "      <th>559</th>\n",
       "      <td>Somalia</td>\n",
       "      <td>18.3</td>\n",
       "      <td>575.7</td>\n",
       "    </tr>\n",
       "    <tr>\n",
       "      <th>313</th>\n",
       "      <td>Kiribati</td>\n",
       "      <td>22.0</td>\n",
       "      <td>62.3</td>\n",
       "    </tr>\n",
       "    <tr>\n",
       "      <th>142</th>\n",
       "      <td>Cook Islands</td>\n",
       "      <td>22.0</td>\n",
       "      <td>69.7</td>\n",
       "    </tr>\n",
       "  </tbody>\n",
       "</table>\n",
       "</div>"
      ],
      "text/plain": [
       "          Country  1990   2011\n",
       "445          Niue   3.7   11.0\n",
       "505  Saint Helena   7.3   11.0\n",
       "559       Somalia  18.3  575.7\n",
       "313      Kiribati  22.0   62.3\n",
       "142  Cook Islands  22.0   69.7"
      ]
     },
     "execution_count": 11,
     "metadata": {},
     "output_type": "execute_result"
    }
   ],
   "source": [
    "#find lowest polluters of 1990\n",
    "\n",
    "year_str=[]\n",
    "for y in year:\n",
    "    year_str.append(str(y))\n",
    "\n",
    "#carbs=carb[carb[year_str]>0]\n",
    "carbon_emiss_sereis_df = carbon_emission_sereis_df[carbon_emission_sereis_df['1990']>0]\n",
    "low_emitting_countries = carbon_emiss_sereis_df.sort_values(by='1990').head()\n",
    "    \n",
    "low_emitting_countries[['Country','1990','2011']]"
   ]
  },
  {
   "cell_type": "markdown",
   "metadata": {},
   "source": [
    "The bottom 5 polluting countries in 1990 vs how they were doing in 2011. Once again, the data shows that most countries show a slow rise in the yearly CO2 emissions over time.\n",
    "\n",
    "I did spot a problem, Yemen has -2999.6.This seems like an anomaly especially since it is rare to have a negative emission level, a negative so high no less, so I have decided to drop the row."
   ]
  },
  {
   "cell_type": "code",
   "execution_count": 12,
   "metadata": {},
   "outputs": [
    {
     "data": {
      "text/plain": [
       "3100.45"
      ]
     },
     "execution_count": 12,
     "metadata": {},
     "output_type": "execute_result"
    }
   ],
   "source": [
    "\n",
    "carbon_emiss_sereis_df['1990'].median()"
   ]
  },
  {
   "cell_type": "markdown",
   "metadata": {},
   "source": [
    "This median seems very low especially when comparing it to the top five emissions in the same year."
   ]
  },
  {
   "cell_type": "code",
   "execution_count": 13,
   "metadata": {},
   "outputs": [
    {
     "data": {
      "text/plain": [
       "91567.47333333328"
      ]
     },
     "execution_count": 13,
     "metadata": {},
     "output_type": "execute_result"
    }
   ],
   "source": [
    "carbon_emiss_sereis_df['1990'].mean()"
   ]
  },
  {
   "cell_type": "markdown",
   "metadata": {},
   "source": [
    "\n",
    "The mean and median differ because the dataset is not evenly distributed , it is skewed.\n",
    "we can see that the mean is much larger than the median of CO2 emissions of 1990, this means distribution is positively skewed\n"
   ]
  },
  {
   "cell_type": "code",
   "execution_count": 14,
   "metadata": {},
   "outputs": [
    {
     "data": {
      "text/plain": [
       "3.7"
      ]
     },
     "execution_count": 14,
     "metadata": {},
     "output_type": "execute_result"
    }
   ],
   "source": [
    "carbon_emiss_sereis_df['1990'].min()"
   ]
  },
  {
   "cell_type": "markdown",
   "metadata": {},
   "source": [
    "The minimum seems very low in comparison to all the other numbers compared to the mean and median"
   ]
  },
  {
   "cell_type": "code",
   "execution_count": 15,
   "metadata": {},
   "outputs": [
    {
     "data": {
      "text/plain": [
       "4823557.1"
      ]
     },
     "execution_count": 15,
     "metadata": {},
     "output_type": "execute_result"
    }
   ],
   "source": [
    "carbon_emiss_sereis_df['1990'].max()"
   ]
  },
  {
   "cell_type": "markdown",
   "metadata": {},
   "source": [
    "The range will be  set is extremly high, very near the the maximum."
   ]
  },
  {
   "cell_type": "code",
   "execution_count": 16,
   "metadata": {},
   "outputs": [
    {
     "data": {
      "text/plain": [
       "3100.45"
      ]
     },
     "execution_count": 16,
     "metadata": {},
     "output_type": "execute_result"
    }
   ],
   "source": [
    "carbon_emiss_sereis_df['1990'].quantile()"
   ]
  },
  {
   "cell_type": "markdown",
   "metadata": {},
   "source": [
    "This is a more robust look at the dispersion of the dataset, as we avoid some of the outliers in both the high and low ends"
   ]
  },
  {
   "cell_type": "code",
   "execution_count": 17,
   "metadata": {},
   "outputs": [
    {
     "data": {
      "text/plain": [
       "Text(0.5, 0, 'Size')"
      ]
     },
     "execution_count": 17,
     "metadata": {},
     "output_type": "execute_result"
    },
    {
     "data": {
      "image/png": "[encoded data removed]",
      "text/plain": [
       "<Figure size 432x288 with 1 Axes>"
      ]
     },
     "metadata": {
      "needs_background": "light"
     },
     "output_type": "display_data"
    }
   ],
   "source": [
    "#carb_90=pd.DataFrame(carb)\n",
    "#carb_90.dropna(subset = [\"1990\"],inplace=True)\n",
    "#ax = carb_90['1990'].plot.hist()\n",
    "\n",
    "ax = carbon_emission_sereis_df['1990'].plot.hist()\n",
    "plt.title(\"Countries CO2 emissions for 1990 \") \n",
    "plt.ylabel(\"frequency\")\n",
    "plt.xlabel(\"Size\")\n"
   ]
  },
  {
   "cell_type": "markdown",
   "metadata": {},
   "source": [
    "\n",
    "This histogram is suprising in that we might have not expected the majority of of countries to be grouped together around the same area,  The measures of distribution could have us believe that the values would be spread or distributed vastly across the graph, instead it seems that only a few outliers are distorting the general veiw.\n",
    " \n",
    "The vast majority of countries emit less than 500 000 metric tons of CO2, with only a few countries who are outliers, above that threshold.\n"
   ]
  },
  {
   "cell_type": "code",
   "execution_count": 18,
   "metadata": {},
   "outputs": [
    {
     "data": {
      "text/plain": [
       "417851.0567508817"
      ]
     },
     "execution_count": 18,
     "metadata": {},
     "output_type": "execute_result"
    }
   ],
   "source": [
    "carbon_emiss_sereis_df['1990'].std()"
   ]
  },
  {
   "cell_type": "markdown",
   "metadata": {},
   "source": [
    "The standard deviation is also extremly high meaning that most values lie really far from the mean. This again might be caused by the extreme values which have distorted the mean and pulled it closer to them so that the lower more common values are further away."
   ]
  },
  {
   "cell_type": "code",
   "execution_count": 19,
   "metadata": {},
   "outputs": [
    {
     "data": {
      "text/plain": [
       "31144.778912169797"
      ]
     },
     "execution_count": 19,
     "metadata": {},
     "output_type": "execute_result"
    }
   ],
   "source": [
    "carbon_emiss_sereis_df['1990'].sem()"
   ]
  },
  {
   "cell_type": "markdown",
   "metadata": {},
   "source": [
    "\n",
    "The standard error is very high which means that data set  is not a good  represention  of the overall population.\n"
   ]
  },
  {
   "cell_type": "code",
   "execution_count": 20,
   "metadata": {},
   "outputs": [
    {
     "data": {
      "text/plain": [
       "Text(0.5, 0, 'Year')"
      ]
     },
     "execution_count": 20,
     "metadata": {},
     "output_type": "execute_result"
    },
    {
     "data": {
      "image/png": "[encoded data removed]",
      "text/plain": [
       "<Figure size 432x288 with 1 Axes>"
      ]
     },
     "metadata": {
      "needs_background": "light"
     },
     "output_type": "display_data"
    }
   ],
   "source": [
    "\n",
    "carbon_emission_sereis_SA =carbon_emission_sereis_df.loc[carbon_emission_sereis_df['Country'] == 'South Africa']\n",
    "carbon_emission_sereis_chi =carbon_emission_sereis_df.loc[carbon_emission_sereis_df['Country'] == 'China']\n",
    "carbon_emission_sereis_usa =carbon_emission_sereis_df.loc[carbon_emission_sereis_df['Country'] == 'United States']\n",
    "carbon_emission_sereis_india =carbon_emission_sereis_df.loc[carbon_emission_sereis_df['Country'] == 'India']\n",
    "carbon_emission_sereis_russia =carbon_emission_sereis_df.loc[carbon_emission_sereis_df['Country'] == 'Russian Federation']\n",
    "carbon_emission_sereis_braz =carbon_emission_sereis_df.loc[carbon_emission_sereis_df['Country'] == 'Brazil']\n",
    "\n",
    "\n",
    "SA= (carbon_emission_sereis_SA.iloc[:, 5:34]).iloc[0]\n",
    "china= (carbon_emission_sereis_chi.iloc[:, 5:34]).iloc[0]\n",
    "usa= (carbon_emission_sereis_usa.iloc[:, 5:34]).iloc[0]\n",
    "india= (carbon_emission_sereis_india.iloc[:, 5:34]).iloc[0]\n",
    "russia = (carbon_emission_sereis_russia.iloc[:, 5:34]).iloc[0]\n",
    "brazil = (carbon_emission_sereis_braz.iloc[:, 5:34]).iloc[0]\n",
    "\n",
    "room= pd.concat([SA, china,india,brazil,usa,russia], axis=1)\n",
    "room.plot.line()\n",
    "plt.legend(['South Africa', 'China','India','Brazil','USA','Russia'])\n",
    "plt.title(\"selected countries CO2 emissions over time\") \n",
    "plt.ylabel(\"CO2 ,per thonsands tons \")\n",
    "plt.xlabel(\"Year\")"
   ]
  },
  {
   "cell_type": "markdown",
   "metadata": {},
   "source": [
    "The  highest contributers overtime, are the USA and China. China had a boom in GDP and production from the early 2000s which coincides with its exponential growth in CO2 emissons surpassing even the US by the mid-2000s.\n",
    "Although the USA has not increased its CO2 emisions over time, the US itself is one of the biggest contributers of CO2 overall over time. Since the 90s it has consistently emitted relatively higher emissions than most countries.\n",
    "\n",
    "Meanwhile countries like Russia seem to be slowly lowering their emissions and countries like India show a  gradual increase.\n",
    "\n",
    "Countries like South Africa and Brazil have managed to keep their emissions low and unchanged over the years.\n",
    "\n",
    "Overall, most countries do not seem to be increasing ther carbon footprint over time. Only China has shown a sharp rise."
   ]
  },
  {
   "cell_type": "code",
   "execution_count": 21,
   "metadata": {},
   "outputs": [
    {
     "data": {
      "text/plain": [
       "32.97713004484306"
      ]
     },
     "execution_count": 21,
     "metadata": {},
     "output_type": "execute_result"
    }
   ],
   "source": [
    "land_covered_by_forest=env_sastainability_df.loc[env_sastainability_df['Series'] == \"Proportion of land area covered by forest, percentage\"]\n",
    "land_covered_by_forest['1990'].mean()\n"
   ]
  },
  {
   "cell_type": "code",
   "execution_count": 22,
   "metadata": {},
   "outputs": [
    {
     "data": {
      "text/plain": [
       "25.497512099375246"
      ]
     },
     "execution_count": 22,
     "metadata": {},
     "output_type": "execute_result"
    }
   ],
   "source": [
    "land_covered_by_forest['1990'].std()"
   ]
  },
  {
   "cell_type": "markdown",
   "metadata": {},
   "source": [
    "The standard deviation of th  proportion of land area covered by forest is so large because the data is more spaced out. Therefore, there is more potential for outliers."
   ]
  },
  {
   "cell_type": "code",
   "execution_count": 23,
   "metadata": {},
   "outputs": [
    {
     "data": {
      "text/plain": [
       "Text(0.5, 0, 'Size')"
      ]
     },
     "execution_count": 23,
     "metadata": {},
     "output_type": "execute_result"
    },
    {
     "data": {
      "image/png": "[encoded data removed]",
      "text/plain": [
       "<Figure size 432x288 with 1 Axes>"
      ]
     },
     "metadata": {
      "needs_background": "light"
     },
     "output_type": "display_data"
    }
   ],
   "source": [
    "ax = land_covered_by_forest['1990'].plot.hist()\n",
    "plt.title(\"Distribution of land area covered by forest \") \n",
    "plt.ylabel(\"frequency\")\n",
    "plt.xlabel(\"Size\")\n"
   ]
  },
  {
   "cell_type": "markdown",
   "metadata": {},
   "source": [
    "The graph is positively skewed, basically the larger the area the less common it is."
   ]
  },
  {
   "cell_type": "code",
   "execution_count": 24,
   "metadata": {},
   "outputs": [
    {
     "data": {
      "text/plain": [
       "Text(0.5, 0, 'Size')"
      ]
     },
     "execution_count": 24,
     "metadata": {},
     "output_type": "execute_result"
    },
    {
     "data": {
      "image/png": "[encoded data removed]",
      "text/plain": [
       "<Figure size 432x288 with 1 Axes>"
      ]
     },
     "metadata": {
      "needs_background": "light"
     },
     "output_type": "display_data"
    }
   ],
   "source": [
    "protected_area = env_sastainability_df.loc[env_sastainability_df['Series'] == \"Terrestrial and marine areas protected to total territorial area, percentage\"]\n",
    "\n",
    "ax = protected_area['1990'].plot.hist()\n",
    "plt.title(\"Distribution of protected terrestrial and marine areas \") \n",
    "plt.ylabel(\"frequency\")\n",
    "plt.xlabel(\"Size\")"
   ]
  },
  {
   "cell_type": "markdown",
   "metadata": {},
   "source": [
    "The graph is extremly positively skewed, the majority of the data set lies in the first 10% , therefore there seems to be potential outliers beyond this."
   ]
  },
  {
   "cell_type": "code",
   "execution_count": 25,
   "metadata": {},
   "outputs": [
    {
     "data": {
      "text/plain": [
       "Text(0.5, 1.0, 'protected area vs land covered by forest ')"
      ]
     },
     "execution_count": 25,
     "metadata": {},
     "output_type": "execute_result"
    },
    {
     "data": {
      "image/png": "[encoded data removed]",
      "text/plain": [
       "<Figure size 432x288 with 1 Axes>"
      ]
     },
     "metadata": {
      "needs_background": "light"
     },
     "output_type": "display_data"
    }
   ],
   "source": [
    "\n",
    "protected_area.reset_index(inplace=True)\n",
    "land_covered_by_forest.reset_index(inplace=True)\n",
    "#rel = pd.concat([land_f['2000'],protected_area['2000']],axis=1,keys=['land area', 'protected'])\n",
    "landForrest_protectedArea_df= pd.DataFrame()\n",
    "landForrest_protectedArea_df['protected area'] = protected_area['2000']\n",
    "landForrest_protectedArea_df['land'] = land_covered_by_forest['2000']\n",
    "\n",
    "\n",
    "sns.regplot('land','protected area' ,data= landForrest_protectedArea_df)\n",
    "plt.title(\"protected area vs land covered by forest \")"
   ]
  },
  {
   "cell_type": "markdown",
   "metadata": {},
   "source": [
    "This is a scatter plot that compares the proportion of land area covered by forest and the percentage of area protected in 2000.\n",
    "There doesn't seem to be a correlation between the proportion of land area covered by forest and the percentage of area protected. There seems to be many outliers near the x and y margins especially."
   ]
  },
  {
   "cell_type": "code",
   "execution_count": 26,
   "metadata": {},
   "outputs": [
    {
     "name": "stderr",
     "output_type": "stream",
     "text": [
      "/home/kevin/anaconda3/lib/python3.7/site-packages/pandas/core/series.py:679: RuntimeWarning: divide by zero encountered in log\n",
      "  result = getattr(ufunc, method)(*inputs, **kwargs)\n"
     ]
    },
    {
     "data": {
      "image/png": "[encoded data removed]",
      "text/plain": [
       "<Figure size 432x288 with 1 Axes>"
      ]
     },
     "metadata": {
      "needs_background": "light"
     },
     "output_type": "display_data"
    }
   ],
   "source": [
    "\n",
    "land_covered_by_forest_norm = np.log(landForrest_protectedArea_df['land'])\n",
    "protected_land_area_norm = np.log(landForrest_protectedArea_df['protected area'])\n",
    "plt.hist(land_covered_by_forest_norm[np.isfinite(land_covered_by_forest_norm)].values)\n",
    "#plt.hist(norm_land) \n",
    "plt.title(\"Distribution of  land coverd by forest\") \n",
    "plt.ylabel(\"frequency\")\n",
    "plt.xlabel(\"distribution\")\n",
    "plt.show()"
   ]
  },
  {
   "cell_type": "markdown",
   "metadata": {},
   "source": [
    "The log transformed land area data is still highly negatively skewed ."
   ]
  },
  {
   "cell_type": "code",
   "execution_count": 27,
   "metadata": {},
   "outputs": [
    {
     "data": {
      "image/png": "[encoded data removed]",
      "text/plain": [
       "<Figure size 432x288 with 1 Axes>"
      ]
     },
     "metadata": {
      "needs_background": "light"
     },
     "output_type": "display_data"
    }
   ],
   "source": [
    "plt.hist(protected_land_area_norm[np.isfinite(protected_land_area_norm)].values)\n",
    "\n",
    "\n",
    "plt.title(\"Distribution of  Terrestrial and marine areas protected\") \n",
    "plt.ylabel(\"frequency\")\n",
    "plt.xlabel(\"distribution\")\n",
    "plt.show()"
   ]
  },
  {
   "cell_type": "markdown",
   "metadata": {},
   "source": [
    "The land area data is negatively skewed, more evenly distributed however."
   ]
  },
  {
   "cell_type": "code",
   "execution_count": 28,
   "metadata": {},
   "outputs": [
    {
     "name": "stdout",
     "output_type": "stream",
     "text": [
      "0.06842339391622292\n"
     ]
    }
   ],
   "source": [
    "land_covered_by_forest_norm = land_covered_by_forest_norm [np.isfinite(land_covered_by_forest_norm )].values\n",
    "\n",
    "protected_land_area_norm =protected_land_area_norm[np.isfinite(protected_land_area_norm)].values\n",
    "\n",
    "protected_land_area_num=len(protected_land_area_norm)\n",
    "\n",
    "land_covered_by_forest_norm = land_covered_by_forest_norm[:protected_land_area_num]\n",
    "\n",
    "pearsonr_coefficient, p_value =pearsonr(land_covered_by_forest_norm,protected_land_area_norm)\n",
    "\n",
    "print(pearsonr_coefficient)"
   ]
  },
  {
   "cell_type": "markdown",
   "metadata": {},
   "source": [
    "There is a very small, positive correlation. There is barely any correlation."
   ]
  },
  {
   "cell_type": "code",
   "execution_count": 29,
   "metadata": {},
   "outputs": [
    {
     "name": "stdout",
     "output_type": "stream",
     "text": [
      "-0.003457541445173289\n"
     ]
    }
   ],
   "source": [
    "coef, p = spearmanr(land_covered_by_forest_norm, protected_land_area_norm)\n",
    "print(coef)\n"
   ]
  },
  {
   "cell_type": "markdown",
   "metadata": {},
   "source": [
    "The data set has a very small negative correlation. Therefore this confirms that there is no correlation.\n",
    "\n",
    "The pearson's coefficient has a positve direction while the spearman correlation has a negative direction, however they are both near 0. This confirms that relationship is random or non-existent."
   ]
  },
  {
   "cell_type": "code",
   "execution_count": 30,
   "metadata": {},
   "outputs": [
    {
     "name": "stdout",
     "output_type": "stream",
     "text": [
      "0.9605652462908225\n"
     ]
    }
   ],
   "source": [
    "print(p)"
   ]
  },
  {
   "cell_type": "markdown",
   "metadata": {},
   "source": [
    "The null hypothesis assumes that the relationship between the sets is none existent, the coefficient of the slope = 0. Before we can reliably accept our own or alternate findings, we first have to disprove the null hypothesis .\n",
    "\n",
    "The p-value is way higher than 0.05, therefore this data set is not statistically significant, we must retain the null hypothesis. This means that the sample data set that we are working with is not a true or a good representation of the general or full population of data."
   ]
  },
  {
   "cell_type": "markdown",
   "metadata": {},
   "source": [
    "## Conclusion\n",
    "Climate change is and is becoming a bigger problem, it may be easy to assume that this problem is caused by a general increase of emissions across all countries over time, however this data set shows us that, in actuality, the majority of countries have relatively low emissions and it's only a few countries that produce most of the carbon emissons, the outliers. Furthermore, most countries are not increasing their carbon footprint at the rate we might expect, most countries actually only show a slight increase over time, if any. Only China seems to have been increasing its emissions at an exponential rate and has become, by far, the largest emitting country. The USA, however, has most likely emitted more total emissons over time since it has been emittimg high levels of CO2 consistently for longer."
   ]
  }
 ],
 "metadata": {
  "kernelspec": {
   "display_name": "Python 3",
   "language": "python",
   "name": "python3"
  },
  "language_info": {
   "codemirror_mode": {
    "name": "ipython",
    "version": 3
   },
   "file_extension": ".py",
   "mimetype": "text/x-python",
   "name": "python",
   "nbconvert_exporter": "python",
   "pygments_lexer": "ipython3",
   "version": "3.7.6"
  }
 },
 "nbformat": 4,
 "nbformat_minor": 4
}
